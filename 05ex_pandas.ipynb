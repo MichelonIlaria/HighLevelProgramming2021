{
 "cells": [
  {
   "cell_type": "markdown",
   "metadata": {},
   "source": [
    "This exercise consists in analyzing a dataset containg timing information from a series of Time-to-Digital-Converters (TDC) implemented in a pair of FPGAs. Each measurement (i.e. each row of the input file) consists of a flag that specifies the type of message ('HEAD', which in this case is always 1), two addresses of the TDC providing the signal ('FPGA' and 'TDC_CHANNEL'), and the timing information ('ORBIT_CNT', 'BX_COUNTER', and 'TDC_MEAS'). Each TDC count corresponds to 25/30 ns, whereas a unit of BX_COUNTER corresponds to 25 ns, and the ORBIT_CNT is increased every 'x' BX_COUNTER. This allows to store the time in a similar way to hours, minutes and seconds."
   ]
  },
  {
   "cell_type": "code",
   "execution_count": 1,
   "metadata": {},
   "outputs": [],
   "source": [
    "# If haven't downloaded it yet, please get the data file with wget\n",
    "#!wget https://www.dropbox.com/s/xvjzaxzz3ysphme/data_000637.txt -P ./data/"
   ]
  },
  {
   "cell_type": "markdown",
   "metadata": {},
   "source": [
    "1\\. Create a Pandas DataFrame reading N rows of the `data/data_000637.txt` dataset. Choose N to be smaller than or equal to the maximum number of rows and larger that 10k (check the documentation)."
   ]
  },
  {
   "cell_type": "code",
   "execution_count": 13,
   "metadata": {},
   "outputs": [
    {
     "data": {
      "text/html": [
       "<div>\n",
       "<style scoped>\n",
       "    .dataframe tbody tr th:only-of-type {\n",
       "        vertical-align: middle;\n",
       "    }\n",
       "\n",
       "    .dataframe tbody tr th {\n",
       "        vertical-align: top;\n",
       "    }\n",
       "\n",
       "    .dataframe thead th {\n",
       "        text-align: right;\n",
       "    }\n",
       "</style>\n",
       "<table border=\"1\" class=\"dataframe\">\n",
       "  <thead>\n",
       "    <tr style=\"text-align: right;\">\n",
       "      <th></th>\n",
       "      <th>HEAD</th>\n",
       "      <th>FPGA</th>\n",
       "      <th>TDC_CHANNEL</th>\n",
       "      <th>ORBIT_CNT</th>\n",
       "      <th>BX_COUNTER</th>\n",
       "      <th>TDC_MEAS</th>\n",
       "    </tr>\n",
       "  </thead>\n",
       "  <tbody>\n",
       "    <tr>\n",
       "      <th>0</th>\n",
       "      <td>1</td>\n",
       "      <td>0</td>\n",
       "      <td>49</td>\n",
       "      <td>3869200267</td>\n",
       "      <td>777</td>\n",
       "      <td>13</td>\n",
       "    </tr>\n",
       "    <tr>\n",
       "      <th>1</th>\n",
       "      <td>1</td>\n",
       "      <td>0</td>\n",
       "      <td>50</td>\n",
       "      <td>3869200267</td>\n",
       "      <td>776</td>\n",
       "      <td>22</td>\n",
       "    </tr>\n",
       "    <tr>\n",
       "      <th>2</th>\n",
       "      <td>1</td>\n",
       "      <td>0</td>\n",
       "      <td>47</td>\n",
       "      <td>3869200267</td>\n",
       "      <td>785</td>\n",
       "      <td>14</td>\n",
       "    </tr>\n",
       "    <tr>\n",
       "      <th>3</th>\n",
       "      <td>1</td>\n",
       "      <td>0</td>\n",
       "      <td>63</td>\n",
       "      <td>3869200267</td>\n",
       "      <td>921</td>\n",
       "      <td>28</td>\n",
       "    </tr>\n",
       "    <tr>\n",
       "      <th>4</th>\n",
       "      <td>1</td>\n",
       "      <td>0</td>\n",
       "      <td>64</td>\n",
       "      <td>3869200267</td>\n",
       "      <td>924</td>\n",
       "      <td>15</td>\n",
       "    </tr>\n",
       "    <tr>\n",
       "      <th>...</th>\n",
       "      <td>...</td>\n",
       "      <td>...</td>\n",
       "      <td>...</td>\n",
       "      <td>...</td>\n",
       "      <td>...</td>\n",
       "      <td>...</td>\n",
       "    </tr>\n",
       "    <tr>\n",
       "      <th>1300716</th>\n",
       "      <td>1</td>\n",
       "      <td>0</td>\n",
       "      <td>62</td>\n",
       "      <td>3869211171</td>\n",
       "      <td>762</td>\n",
       "      <td>14</td>\n",
       "    </tr>\n",
       "    <tr>\n",
       "      <th>1300717</th>\n",
       "      <td>1</td>\n",
       "      <td>1</td>\n",
       "      <td>4</td>\n",
       "      <td>3869211171</td>\n",
       "      <td>763</td>\n",
       "      <td>11</td>\n",
       "    </tr>\n",
       "    <tr>\n",
       "      <th>1300718</th>\n",
       "      <td>1</td>\n",
       "      <td>0</td>\n",
       "      <td>64</td>\n",
       "      <td>3869211171</td>\n",
       "      <td>764</td>\n",
       "      <td>0</td>\n",
       "    </tr>\n",
       "    <tr>\n",
       "      <th>1300719</th>\n",
       "      <td>1</td>\n",
       "      <td>0</td>\n",
       "      <td>139</td>\n",
       "      <td>3869211171</td>\n",
       "      <td>769</td>\n",
       "      <td>0</td>\n",
       "    </tr>\n",
       "    <tr>\n",
       "      <th>1300720</th>\n",
       "      <td>1</td>\n",
       "      <td>0</td>\n",
       "      <td>61</td>\n",
       "      <td>3869211171</td>\n",
       "      <td>762</td>\n",
       "      <td>18</td>\n",
       "    </tr>\n",
       "  </tbody>\n",
       "</table>\n",
       "<p>1300721 rows × 6 columns</p>\n",
       "</div>"
      ],
      "text/plain": [
       "         HEAD  FPGA  TDC_CHANNEL   ORBIT_CNT  BX_COUNTER  TDC_MEAS\n",
       "0           1     0           49  3869200267         777        13\n",
       "1           1     0           50  3869200267         776        22\n",
       "2           1     0           47  3869200267         785        14\n",
       "3           1     0           63  3869200267         921        28\n",
       "4           1     0           64  3869200267         924        15\n",
       "...       ...   ...          ...         ...         ...       ...\n",
       "1300716     1     0           62  3869211171         762        14\n",
       "1300717     1     1            4  3869211171         763        11\n",
       "1300718     1     0           64  3869211171         764         0\n",
       "1300719     1     0          139  3869211171         769         0\n",
       "1300720     1     0           61  3869211171         762        18\n",
       "\n",
       "[1300721 rows x 6 columns]"
      ]
     },
     "execution_count": 13,
     "metadata": {},
     "output_type": "execute_result"
    }
   ],
   "source": [
    "import numpy as np\n",
    "import pandas as pd\n",
    "\n",
    "file = \"./data/data_000637.txt\"\n",
    "N = [i for i in range(1,10000)]\n",
    "DataFrame = pd.read_csv(file, skiprows=N)\n",
    "DataFrame"
   ]
  },
  {
   "cell_type": "markdown",
   "metadata": {},
   "source": [
    "2\\. Estimate the number of BX in a ORBIT (the value 'x')."
   ]
  },
  {
   "cell_type": "code",
   "execution_count": 14,
   "metadata": {},
   "outputs": [
    {
     "name": "stdout",
     "output_type": "stream",
     "text": [
      "3869208772    351\n",
      "3869207118    337\n",
      "3869209661    324\n",
      "3869206967    322\n",
      "3869206506    305\n",
      "             ... \n",
      "3869204462      3\n",
      "3869205800      2\n",
      "3869203571      2\n",
      "3869206180      1\n",
      "3869204142      1\n",
      "Name: ORBIT_CNT, Length: 10901, dtype: int64\n"
     ]
    }
   ],
   "source": [
    "x = DataFrame['ORBIT_CNT'].value_counts()\n",
    "print(x)"
   ]
  },
  {
   "cell_type": "markdown",
   "metadata": {},
   "source": [
    "3\\. Find out the duration of the data taking in hours, minutes and seconds. You can either make an estimate based on the fraction of the measurements (rows) you read, or perform this check precisely by reading the whole dataset."
   ]
  },
  {
   "cell_type": "code",
   "execution_count": 15,
   "metadata": {},
   "outputs": [
    {
     "name": "stdout",
     "output_type": "stream",
     "text": [
      "Total time of data taking considering a fraction of measurements:\n",
      "1450742379295.8281 ns = 1450.7423792958282 s = 0 h 24 min 10 s\n"
     ]
    }
   ],
   "source": [
    "TDC_Time = DataFrame['TDC_MEAS'] * 25/30 \n",
    "BX_Time = DataFrame['BX_COUNTER'] *25\n",
    "ORBIT_Time = DataFrame['ORBIT_CNT']*BX_Time\n",
    "\n",
    "Time = TDC_Time + BX_Time + ORBIT_Time #time in ns\n",
    "\n",
    "Duration = abs(Time[Time.size-1] - Time[0])\n",
    "Duration_s = Duration*pow(10,-9)\n",
    "\n",
    "\n",
    "#find the time in hours, minutes, seconds\n",
    "hours = Duration_s / 3600\n",
    "minutes = (hours - int(hours))*60\n",
    "seconds = (minutes - int(minutes))*60\n",
    "print(\"Total time of data taking considering a fraction of measurements:\")\n",
    "print(Duration, \"ns =\", Duration_s, \"s =\", int(hours), \"h\", int(minutes), \"min\", int(seconds), \"s\")"
   ]
  },
  {
   "cell_type": "markdown",
   "metadata": {},
   "source": [
    "4\\. Create a new column with the absolute time in ns (as a combination of the other three columns with timing information) since the beginning of the data acquisition."
   ]
  },
  {
   "cell_type": "code",
   "execution_count": 16,
   "metadata": {},
   "outputs": [
    {
     "data": {
      "text/html": [
       "<div>\n",
       "<style scoped>\n",
       "    .dataframe tbody tr th:only-of-type {\n",
       "        vertical-align: middle;\n",
       "    }\n",
       "\n",
       "    .dataframe tbody tr th {\n",
       "        vertical-align: top;\n",
       "    }\n",
       "\n",
       "    .dataframe thead th {\n",
       "        text-align: right;\n",
       "    }\n",
       "</style>\n",
       "<table border=\"1\" class=\"dataframe\">\n",
       "  <thead>\n",
       "    <tr style=\"text-align: right;\">\n",
       "      <th></th>\n",
       "      <th>HEAD</th>\n",
       "      <th>FPGA</th>\n",
       "      <th>TDC_CHANNEL</th>\n",
       "      <th>ORBIT_CNT</th>\n",
       "      <th>BX_COUNTER</th>\n",
       "      <th>TDC_MEAS</th>\n",
       "      <th>ABS_TIME</th>\n",
       "    </tr>\n",
       "  </thead>\n",
       "  <tbody>\n",
       "    <tr>\n",
       "      <th>0</th>\n",
       "      <td>1</td>\n",
       "      <td>0</td>\n",
       "      <td>123</td>\n",
       "      <td>3869200167</td>\n",
       "      <td>2374</td>\n",
       "      <td>26</td>\n",
       "      <td>0.000000e+00</td>\n",
       "    </tr>\n",
       "    <tr>\n",
       "      <th>1</th>\n",
       "      <td>1</td>\n",
       "      <td>0</td>\n",
       "      <td>124</td>\n",
       "      <td>3869200167</td>\n",
       "      <td>2374</td>\n",
       "      <td>27</td>\n",
       "      <td>8.437500e-01</td>\n",
       "    </tr>\n",
       "    <tr>\n",
       "      <th>2</th>\n",
       "      <td>1</td>\n",
       "      <td>0</td>\n",
       "      <td>63</td>\n",
       "      <td>3869200167</td>\n",
       "      <td>2553</td>\n",
       "      <td>28</td>\n",
       "      <td>1.731467e+13</td>\n",
       "    </tr>\n",
       "    <tr>\n",
       "      <th>3</th>\n",
       "      <td>1</td>\n",
       "      <td>0</td>\n",
       "      <td>64</td>\n",
       "      <td>3869200167</td>\n",
       "      <td>2558</td>\n",
       "      <td>19</td>\n",
       "      <td>1.779832e+13</td>\n",
       "    </tr>\n",
       "    <tr>\n",
       "      <th>4</th>\n",
       "      <td>1</td>\n",
       "      <td>0</td>\n",
       "      <td>64</td>\n",
       "      <td>3869200167</td>\n",
       "      <td>2760</td>\n",
       "      <td>25</td>\n",
       "      <td>3.733778e+13</td>\n",
       "    </tr>\n",
       "    <tr>\n",
       "      <th>...</th>\n",
       "      <td>...</td>\n",
       "      <td>...</td>\n",
       "      <td>...</td>\n",
       "      <td>...</td>\n",
       "      <td>...</td>\n",
       "      <td>...</td>\n",
       "      <td>...</td>\n",
       "    </tr>\n",
       "    <tr>\n",
       "      <th>1310715</th>\n",
       "      <td>1</td>\n",
       "      <td>0</td>\n",
       "      <td>62</td>\n",
       "      <td>3869211171</td>\n",
       "      <td>762</td>\n",
       "      <td>14</td>\n",
       "      <td>1.559286e+14</td>\n",
       "    </tr>\n",
       "    <tr>\n",
       "      <th>1310716</th>\n",
       "      <td>1</td>\n",
       "      <td>1</td>\n",
       "      <td>4</td>\n",
       "      <td>3869211171</td>\n",
       "      <td>763</td>\n",
       "      <td>11</td>\n",
       "      <td>1.558318e+14</td>\n",
       "    </tr>\n",
       "    <tr>\n",
       "      <th>1310717</th>\n",
       "      <td>1</td>\n",
       "      <td>0</td>\n",
       "      <td>64</td>\n",
       "      <td>3869211171</td>\n",
       "      <td>764</td>\n",
       "      <td>0</td>\n",
       "      <td>1.557351e+14</td>\n",
       "    </tr>\n",
       "    <tr>\n",
       "      <th>1310718</th>\n",
       "      <td>1</td>\n",
       "      <td>0</td>\n",
       "      <td>139</td>\n",
       "      <td>3869211171</td>\n",
       "      <td>769</td>\n",
       "      <td>0</td>\n",
       "      <td>1.552514e+14</td>\n",
       "    </tr>\n",
       "    <tr>\n",
       "      <th>1310719</th>\n",
       "      <td>1</td>\n",
       "      <td>0</td>\n",
       "      <td>61</td>\n",
       "      <td>3869211171</td>\n",
       "      <td>762</td>\n",
       "      <td>18</td>\n",
       "      <td>1.559286e+14</td>\n",
       "    </tr>\n",
       "  </tbody>\n",
       "</table>\n",
       "<p>1310720 rows × 7 columns</p>\n",
       "</div>"
      ],
      "text/plain": [
       "         HEAD  FPGA  TDC_CHANNEL   ORBIT_CNT  BX_COUNTER  TDC_MEAS  \\\n",
       "0           1     0          123  3869200167        2374        26   \n",
       "1           1     0          124  3869200167        2374        27   \n",
       "2           1     0           63  3869200167        2553        28   \n",
       "3           1     0           64  3869200167        2558        19   \n",
       "4           1     0           64  3869200167        2760        25   \n",
       "...       ...   ...          ...         ...         ...       ...   \n",
       "1310715     1     0           62  3869211171         762        14   \n",
       "1310716     1     1            4  3869211171         763        11   \n",
       "1310717     1     0           64  3869211171         764         0   \n",
       "1310718     1     0          139  3869211171         769         0   \n",
       "1310719     1     0           61  3869211171         762        18   \n",
       "\n",
       "             ABS_TIME  \n",
       "0        0.000000e+00  \n",
       "1        8.437500e-01  \n",
       "2        1.731467e+13  \n",
       "3        1.779832e+13  \n",
       "4        3.733778e+13  \n",
       "...               ...  \n",
       "1310715  1.559286e+14  \n",
       "1310716  1.558318e+14  \n",
       "1310717  1.557351e+14  \n",
       "1310718  1.552514e+14  \n",
       "1310719  1.559286e+14  \n",
       "\n",
       "[1310720 rows x 7 columns]"
      ]
     },
     "execution_count": 16,
     "metadata": {},
     "output_type": "execute_result"
    }
   ],
   "source": [
    "#read all data file\n",
    "df = pd.read_csv(file)\n",
    "\n",
    "timeTot = df['TDC_MEAS'] * 25/30 + df['BX_COUNTER'] * 25 + df['ORBIT_CNT']*df['BX_COUNTER']*25 \n",
    "df['ABS_TIME'] = abs(timeTot - timeTot[0])\n",
    "\n",
    "df"
   ]
  },
  {
   "cell_type": "markdown",
   "metadata": {},
   "source": [
    "5\\. Use the `.groupby()` method to find out the noisy channels, i.e. the TDC channels with most counts (print to screen the top 3 and the corresponding counts)"
   ]
  },
  {
   "cell_type": "code",
   "execution_count": 17,
   "metadata": {},
   "outputs": [
    {
     "data": {
      "text/html": [
       "<div>\n",
       "<style scoped>\n",
       "    .dataframe tbody tr th:only-of-type {\n",
       "        vertical-align: middle;\n",
       "    }\n",
       "\n",
       "    .dataframe tbody tr th {\n",
       "        vertical-align: top;\n",
       "    }\n",
       "\n",
       "    .dataframe thead th {\n",
       "        text-align: right;\n",
       "    }\n",
       "</style>\n",
       "<table border=\"1\" class=\"dataframe\">\n",
       "  <thead>\n",
       "    <tr style=\"text-align: right;\">\n",
       "      <th></th>\n",
       "      <th>HEAD</th>\n",
       "      <th>FPGA</th>\n",
       "      <th>ORBIT_CNT</th>\n",
       "      <th>BX_COUNTER</th>\n",
       "      <th>TDC_MEAS</th>\n",
       "      <th>ABS_TIME</th>\n",
       "      <th>TOP</th>\n",
       "    </tr>\n",
       "    <tr>\n",
       "      <th>TDC_CHANNEL</th>\n",
       "      <th></th>\n",
       "      <th></th>\n",
       "      <th></th>\n",
       "      <th></th>\n",
       "      <th></th>\n",
       "      <th></th>\n",
       "      <th></th>\n",
       "    </tr>\n",
       "  </thead>\n",
       "  <tbody>\n",
       "    <tr>\n",
       "      <th>63</th>\n",
       "      <td>64642</td>\n",
       "      <td>918</td>\n",
       "      <td>250113227630194</td>\n",
       "      <td>115482430</td>\n",
       "      <td>938192</td>\n",
       "      <td>6.171815e+18</td>\n",
       "      <td>3</td>\n",
       "    </tr>\n",
       "    <tr>\n",
       "      <th>64</th>\n",
       "      <td>66020</td>\n",
       "      <td>1439</td>\n",
       "      <td>255444994368975</td>\n",
       "      <td>117767051</td>\n",
       "      <td>962195</td>\n",
       "      <td>6.316821e+18</td>\n",
       "      <td>2</td>\n",
       "    </tr>\n",
       "    <tr>\n",
       "      <th>139</th>\n",
       "      <td>108059</td>\n",
       "      <td>32442</td>\n",
       "      <td>418102549486957</td>\n",
       "      <td>192477704</td>\n",
       "      <td>0</td>\n",
       "      <td>1.034423e+19</td>\n",
       "      <td>1</td>\n",
       "    </tr>\n",
       "  </tbody>\n",
       "</table>\n",
       "</div>"
      ],
      "text/plain": [
       "               HEAD   FPGA        ORBIT_CNT  BX_COUNTER  TDC_MEAS  \\\n",
       "TDC_CHANNEL                                                         \n",
       "63            64642    918  250113227630194   115482430    938192   \n",
       "64            66020   1439  255444994368975   117767051    962195   \n",
       "139          108059  32442  418102549486957   192477704         0   \n",
       "\n",
       "                 ABS_TIME  TOP  \n",
       "TDC_CHANNEL                     \n",
       "63           6.171815e+18    3  \n",
       "64           6.316821e+18    2  \n",
       "139          1.034423e+19    1  "
      ]
     },
     "execution_count": 17,
     "metadata": {},
     "output_type": "execute_result"
    }
   ],
   "source": [
    "TDC_groups = df.groupby('TDC_CHANNEL').sum().sort_values(by='ORBIT_CNT').iloc[-3:]\n",
    "max_val = [3,2,1]\n",
    "TDC_groups['TOP'] = max_val\n",
    "TDC_groups"
   ]
  },
  {
   "cell_type": "markdown",
   "metadata": {},
   "source": [
    "6\\. Count the number of non-empty orbits (i.e. the number of orbits with at least one hit). Count also the number of unique orbits with at least one measurement from TDC_CHANNEL=139."
   ]
  },
  {
   "cell_type": "code",
   "execution_count": 18,
   "metadata": {},
   "outputs": [
    {
     "name": "stdout",
     "output_type": "stream",
     "text": [
      "The number of non-empty orbits is: 11001 \n",
      "\n",
      "The number of non-empty orbits from TDC_CHANNEL=139: 10976\n"
     ]
    }
   ],
   "source": [
    "orbits = len(df.groupby('ORBIT_CNT').size())\n",
    "print(\"The number of non-empty orbits is:\", orbits,'\\n')\n",
    "\n",
    "ch139 = len(df[df['TDC_CHANNEL'] == 139].groupby('ORBIT_CNT').size())\n",
    "print(\"The number of non-empty orbits from TDC_CHANNEL=139:\", ch139)"
   ]
  },
  {
   "cell_type": "markdown",
   "metadata": {},
   "source": [
    "7\\. **Optional:** Make two occupancy plots (one for each FPGA), i.e. plot the number of counts per TDC channel"
   ]
  },
  {
   "cell_type": "code",
   "execution_count": 19,
   "metadata": {},
   "outputs": [
    {
     "data": {
      "text/plain": [
       "FPGA\n",
       "0    AxesSubplot(0.125,0.125;0.775x0.755)\n",
       "1    AxesSubplot(0.125,0.125;0.775x0.755)\n",
       "dtype: object"
      ]
     },
     "execution_count": 19,
     "metadata": {},
     "output_type": "execute_result"
    },
    {
     "data": {
      "image/png": "[encoded data removed]",
      "text/plain": [
       "<Figure size 432x288 with 1 Axes>"
      ]
     },
     "metadata": {
      "needs_background": "light"
     },
     "output_type": "display_data"
    },
    {
     "data": {
      "image/png": "[encoded data removed]",
      "text/plain": [
       "<Figure size 432x288 with 1 Axes>"
      ]
     },
     "metadata": {
      "needs_background": "light"
     },
     "output_type": "display_data"
    }
   ],
   "source": [
    "FPGA = DataFrame.groupby('FPGA')\n",
    "FPGA.plot.scatter(\"ORBIT_CNT\", \"TDC_CHANNEL\")"
   ]
  },
  {
   "cell_type": "code",
   "execution_count": null,
   "metadata": {},
   "outputs": [],
   "source": []
  }
 ],
 "metadata": {
  "kernelspec": {
   "display_name": "Python 3 (ipykernel)",
   "language": "python",
   "name": "python3"
  },
  "language_info": {
   "codemirror_mode": {
    "name": "ipython",
    "version": 3
   },
   "file_extension": ".py",
   "mimetype": "text/x-python",
   "name": "python",
   "nbconvert_exporter": "python",
   "pygments_lexer": "ipython3",
   "version": "3.8.10"
  }
 },
 "nbformat": 4,
 "nbformat_minor": 2
}
