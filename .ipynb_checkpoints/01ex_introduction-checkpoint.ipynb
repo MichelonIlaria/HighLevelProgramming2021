{
 "cells": [
  {
   "cell_type": "markdown",
   "metadata": {},
   "source": [
    "1. The HelloWorld replacement\n",
    "\n",
    "a) Write a program that prints the numbers from 1 to 100. But for multiples of three print \"Hello\" instead of the number and for the multiples of five print \"World\". For numbers which are multiples of both three and five print \"HelloWorld\".\n",
    "\n",
    "b) Put the result in a tuple and substitute \"Hello\" with \"Python\" and \"World\" with \"Works\"."
   ]
  },
  {
   "cell_type": "code",
   "execution_count": 12,
   "metadata": {},
   "outputs": [
    {
     "name": "stdout",
     "output_type": "stream",
     "text": [
      "Point a): prints numbers from 1 to 100 with substitutions: \n",
      "1\n",
      "2\n",
      "Hello\n",
      "4\n",
      "World\n",
      "Hello\n",
      "7\n",
      "8\n",
      "Hello\n",
      "World\n",
      "11\n",
      "Hello\n",
      "13\n",
      "14\n",
      "HelloWorld\n",
      "16\n",
      "17\n",
      "Hello\n",
      "19\n",
      "World\n",
      "Hello\n",
      "22\n",
      "23\n",
      "Hello\n",
      "World\n",
      "26\n",
      "Hello\n",
      "28\n",
      "29\n",
      "HelloWorld\n",
      "31\n",
      "32\n",
      "Hello\n",
      "34\n",
      "World\n",
      "Hello\n",
      "37\n",
      "38\n",
      "Hello\n",
      "World\n",
      "41\n",
      "Hello\n",
      "43\n",
      "44\n",
      "HelloWorld\n",
      "46\n",
      "47\n",
      "Hello\n",
      "49\n",
      "World\n",
      "Hello\n",
      "52\n",
      "53\n",
      "Hello\n",
      "World\n",
      "56\n",
      "Hello\n",
      "58\n",
      "59\n",
      "HelloWorld\n",
      "61\n",
      "62\n",
      "Hello\n",
      "64\n",
      "World\n",
      "Hello\n",
      "67\n",
      "68\n",
      "Hello\n",
      "World\n",
      "71\n",
      "Hello\n",
      "73\n",
      "74\n",
      "HelloWorld\n",
      "76\n",
      "77\n",
      "Hello\n",
      "79\n",
      "World\n",
      "Hello\n",
      "82\n",
      "83\n",
      "Hello\n",
      "World\n",
      "86\n",
      "Hello\n",
      "88\n",
      "89\n",
      "HelloWorld\n",
      "91\n",
      "92\n",
      "Hello\n",
      "94\n",
      "World\n",
      "Hello\n",
      "97\n",
      "98\n",
      "Hello\n",
      "World\n",
      "\n",
      "Point b)\n",
      "Print tuple elements: \n",
      "(1, 2, 'Python', 4, 'Works', 'Python', 7, 8, 'Python', 'Works', 11, 'Python', 13, 14, 'HelloWorld', 16, 17, 'Python', 19, 'Works', 'Python', 22, 23, 'Python', 'Works', 26, 'Python', 28, 29, 'HelloWorld', 31, 32, 'Python', 34, 'Works', 'Python', 37, 38, 'Python', 'Works', 41, 'Python', 43, 44, 'HelloWorld', 46, 47, 'Python', 49, 'Works', 'Python', 52, 53, 'Python', 'Works', 56, 'Python', 58, 59, 'HelloWorld', 61, 62, 'Python', 64, 'Works', 'Python', 67, 68, 'Python', 'Works', 71, 'Python', 73, 74, 'HelloWorld', 76, 77, 'Python', 79, 'Works', 'Python', 82, 83, 'Python', 'Works', 86, 'Python', 88, 89, 'HelloWorld', 91, 92, 'Python', 94, 'Works', 'Python', 97, 98, 'Python', 'Works')\n"
     ]
    }
   ],
   "source": [
    "#point a)\n",
    "print(\"Point a): prints numbers from 1 to 100 with substitutions: \")\n",
    "for i in range(1,101): \n",
    "\n",
    "    if i % 15 == 0 :\n",
    "        print(\"HelloWorld\")\n",
    "    \n",
    "    elif i % 3 == 0: \n",
    "        print(\"Hello\")\n",
    "    \n",
    "    elif i % 5 == 0:\n",
    "        print(\"World\")\n",
    "        \n",
    "    else: \n",
    "        print(i)\n",
    "        \n",
    "print(\"\")\n",
    "\n",
    "\n",
    "\n",
    "\n",
    "#point b): let's insert the elements in a list in order to modify them, then insert the result in a tuple\n",
    "print(\"Point b)\")\n",
    "lista = []\n",
    "for i in range(1,101): \n",
    "\n",
    "    if i % 15 == 0 :\n",
    "        lista.append(\"HelloWorld\")\n",
    "    \n",
    "    elif i % 3 == 0: \n",
    "        lista.append(\"Hello\")\n",
    "    \n",
    "    elif i % 5 == 0:\n",
    "        lista.append(\"World\")\n",
    "        \n",
    "    else: \n",
    "        lista.append(i)\n",
    "\n",
    "\n",
    "for i in lista:\n",
    "    if i == \"Hello\":\n",
    "        lista[lista.index(i)] = \"Python\" #reassign elements\n",
    "    \n",
    "    elif i == \"World\":\n",
    "        lista[lista.index(i)] = \"Works\"\n",
    "        \n",
    "    \n",
    "#convert the list in a tuple\n",
    "unaTupla = tuple(lista)\n",
    "\n",
    "print(\"Print tuple elements: \")\n",
    "print(unaTupla)\n",
    "\n",
    "\n",
    "\n"
   ]
  },
  {
   "cell_type": "markdown",
   "metadata": {},
   "source": [
    "2\\. The swap function\n",
    "\n",
    "Write a function that swap the values of two input variables x and y (whatever the type). Try to do that also without a temporary variable"
   ]
  },
  {
   "cell_type": "code",
   "execution_count": 13,
   "metadata": {},
   "outputs": [
    {
     "name": "stdout",
     "output_type": "stream",
     "text": [
      "(12, 5)\n"
     ]
    }
   ],
   "source": [
    "#with temporary variable\n",
    "def swap(x, y):\n",
    "    temp = x\n",
    "    x = y\n",
    "    y = temp\n",
    "    return x, y\n",
    "\n",
    "x = 5\n",
    "y = 12\n",
    "print(swap(x, y))"
   ]
  },
  {
   "cell_type": "code",
   "execution_count": 14,
   "metadata": {},
   "outputs": [
    {
     "name": "stdout",
     "output_type": "stream",
     "text": [
      "(12, 5)\n"
     ]
    }
   ],
   "source": [
    "#without temporary variable\n",
    "def swap2(x, y):\n",
    "    return y, x\n",
    "\n",
    "x = 5\n",
    "y = 12\n",
    "\n",
    "print(swap2(x,y))"
   ]
  },
  {
   "cell_type": "markdown",
   "metadata": {},
   "source": [
    "3\\. Computing the distance\n",
    "\n",
    "Write a function that calculates and returns the euclidean distance between two points *u* and *v*, where *u* and *v* are both 2-tuples *(x,y)*. For example, if *u=(3,0)* and *v=(0,4)*, the function should return 5"
   ]
  },
  {
   "cell_type": "code",
   "execution_count": 15,
   "metadata": {},
   "outputs": [
    {
     "name": "stdout",
     "output_type": "stream",
     "text": [
      "The euclidean distance between the points u = (3, 0)  and v = (0, 4) is: 5.0\n"
     ]
    }
   ],
   "source": [
    "def distEuclidean(u, v):\n",
    "    d1 = (u[0] - v[0]) ** 2\n",
    "    d2 = (u[1] - v[1]) ** 2\n",
    "    distance = (d1 + d2) **0.5\n",
    "    return distance\n",
    "    \n",
    "\n",
    "u = (3, 0)\n",
    "v = (0, 4)\n",
    "\n",
    "distance = distEuclidean(u, v)\n",
    "print(\"The euclidean distance between the points u =\", u, \" and v =\", v, \"is:\", distance)\n",
    "    "
   ]
  },
  {
   "cell_type": "markdown",
   "metadata": {},
   "source": [
    "4\\. Counting letters\n",
    "\n",
    "Write a program to calculate the number of times each character occurs in a given string *s*. Ignore differences in capitalization"
   ]
  },
  {
   "cell_type": "code",
   "execution_count": 16,
   "metadata": {},
   "outputs": [
    {
     "name": "stdout",
     "output_type": "stream",
     "text": [
      "The character  w  appears  4  times\n",
      "The character  r  appears  19  times\n",
      "The character  i  appears  12  times\n",
      "The character  t  appears  19  times\n",
      "The character  e  appears  20  times\n",
      "The character     appears  41  times\n",
      "The character  a  appears  7  times\n",
      "The character  p  appears  8  times\n",
      "The character  o  appears  15  times\n",
      "The character  g  appears  1  times\n",
      "The character  m  appears  8  times\n",
      "The character  h  appears  11  times\n",
      "The character  n  appears  10  times\n",
      "The character  s  appears  7  times\n",
      "The character  u  appears  7  times\n",
      "The character  b  appears  5  times\n",
      "The character  f  appears  10  times\n",
      "The character  1  appears  2  times\n",
      "The character  0  appears  2  times\n",
      "The character  .  appears  3  times\n",
      "The character  l  appears  12  times\n",
      "The character  d  appears  5  times\n",
      "The character  v  appears  2  times\n",
      "The character  c  appears  1  times\n"
     ]
    }
   ],
   "source": [
    "s = \"Write a program that prints the numbers from 1 to 100. \\\n",
    "But for multiples of three print Hello instead of the number and for the multiples of five print World. \\\n",
    "For numbers which are multiples of both three and five print HelloWorld.\"\n",
    "\n",
    "characters = [x for x in s]#list with all characters of s\n",
    "\n",
    "#assigning capital letters to small letters in order to ignore differences in capitalization\n",
    "for i in characters:\n",
    "    if i == \"W\":\n",
    "        characters[characters.index(i)] = \"w\"\n",
    "    elif i == \"B\":\n",
    "        characters[characters.index(i)] = \"b\"\n",
    "    elif i == \"H\":\n",
    "        characters[characters.index(i)] = \"h\"\n",
    "    elif i == \"F\":\n",
    "        characters[characters.index(i)] = \"f\"\n",
    "\n",
    "        \n",
    "letters = [] #list with all the characters taken just one time \n",
    "for i in characters:\n",
    "    if i not in letters:\n",
    "        letters.append(i)\n",
    "\n",
    "        \n",
    "#counting how many times the elements of the list \"letters\" appears in the string s\n",
    "for x in letters:\n",
    "    c = characters.count(x)\n",
    "    print(\"The character \", x, \" appears \", c, \" times\")\n",
    "        \n"
   ]
  },
  {
   "cell_type": "markdown",
   "metadata": {},
   "source": [
    "5\\. Isolating the unique\n",
    "\n",
    "Write a function that determines and count the unique numbers in the list:"
   ]
  },
  {
   "cell_type": "code",
   "execution_count": 17,
   "metadata": {},
   "outputs": [
    {
     "name": "stdout",
     "output_type": "stream",
     "text": [
      "List of the unique numbers:\n",
      "[36, 45, 58, 3, 74, 96, 64, 31, 10, 24, 19, 33, 86, 99, 18, 63, 70, 85, 47, 56, 42, 84, 88, 55, 20, 54, 8, 51, 79, 81, 57, 37, 91, 1, 66, 9, 89, 50, 95, 90, 98, 39, 16, 82, 92, 41, 30, 34, 94, 5, 72, 87, 75, 53]\n",
      "\n",
      "The number 36 appears 3 times in the list l.\n",
      "The number 45 appears 3 times in the list l.\n",
      "The number 58 appears 1 times in the list l.\n",
      "The number 3 appears 2 times in the list l.\n",
      "The number 74 appears 1 times in the list l.\n",
      "The number 96 appears 1 times in the list l.\n",
      "The number 64 appears 1 times in the list l.\n",
      "The number 31 appears 2 times in the list l.\n",
      "The number 10 appears 1 times in the list l.\n",
      "The number 24 appears 1 times in the list l.\n",
      "The number 19 appears 1 times in the list l.\n",
      "The number 33 appears 1 times in the list l.\n",
      "The number 86 appears 1 times in the list l.\n",
      "The number 99 appears 1 times in the list l.\n",
      "The number 18 appears 1 times in the list l.\n",
      "The number 63 appears 2 times in the list l.\n",
      "The number 70 appears 3 times in the list l.\n",
      "The number 85 appears 3 times in the list l.\n",
      "The number 47 appears 1 times in the list l.\n",
      "The number 56 appears 2 times in the list l.\n",
      "The number 42 appears 2 times in the list l.\n",
      "The number 84 appears 4 times in the list l.\n",
      "The number 88 appears 1 times in the list l.\n",
      "The number 55 appears 1 times in the list l.\n",
      "The number 20 appears 3 times in the list l.\n",
      "The number 54 appears 1 times in the list l.\n",
      "The number 8 appears 1 times in the list l.\n",
      "The number 51 appears 3 times in the list l.\n",
      "The number 79 appears 1 times in the list l.\n",
      "The number 81 appears 1 times in the list l.\n",
      "The number 57 appears 1 times in the list l.\n",
      "The number 37 appears 1 times in the list l.\n",
      "The number 91 appears 3 times in the list l.\n",
      "The number 1 appears 1 times in the list l.\n",
      "The number 66 appears 2 times in the list l.\n",
      "The number 9 appears 1 times in the list l.\n",
      "The number 89 appears 2 times in the list l.\n",
      "The number 50 appears 2 times in the list l.\n",
      "The number 95 appears 1 times in the list l.\n",
      "The number 90 appears 1 times in the list l.\n",
      "The number 98 appears 1 times in the list l.\n",
      "The number 39 appears 1 times in the list l.\n",
      "The number 16 appears 1 times in the list l.\n",
      "The number 82 appears 1 times in the list l.\n",
      "The number 92 appears 1 times in the list l.\n",
      "The number 41 appears 1 times in the list l.\n",
      "The number 30 appears 1 times in the list l.\n",
      "The number 34 appears 2 times in the list l.\n",
      "The number 94 appears 1 times in the list l.\n",
      "The number 5 appears 1 times in the list l.\n",
      "The number 72 appears 1 times in the list l.\n",
      "The number 87 appears 1 times in the list l.\n",
      "The number 75 appears 1 times in the list l.\n",
      "The number 53 appears 1 times in the list l.\n"
     ]
    }
   ],
   "source": [
    "l = [36, 45, 58, 3, 74, 96, 64, 45, 31, 10, 24, 19, 33, 86, 99, 18, 63, 70, 85,\n",
    " 85, 63, 47, 56, 42, 70, 84, 88, 55, 20, 54, 8, 56, 51, 79, 81, 57, 37, 91,\n",
    " 1, 84, 84, 36, 66, 9, 89, 50, 42, 91, 50, 95, 90, 98, 39, 16, 82, 31, 92, 41,\n",
    " 45, 30, 66, 70, 34, 85, 94, 5, 3, 36, 72, 91, 84, 34, 87, 75, 53, 51, 20, 89, 51, 20]\n",
    "\n",
    "def unique(lista):\n",
    "    unique = []\n",
    "    for i in lista:\n",
    "        if i not in unique:\n",
    "            unique.append(i)\n",
    "    print(\"List of the unique numbers:\")\n",
    "    print(unique)\n",
    "    print(\"\")\n",
    "    for x in unique:\n",
    "        c = l.count(x)\n",
    "        print(\"The number\", x, \"appears\", c, \"times in the list l.\")\n",
    "\n",
    "\n",
    "unique(l)\n"
   ]
  },
  {
   "cell_type": "markdown",
   "metadata": {},
   "source": [
    "Do the same without using user-defined functions, but exploiting only the Python data structures."
   ]
  },
  {
   "cell_type": "code",
   "execution_count": 18,
   "metadata": {},
   "outputs": [
    {
     "name": "stdout",
     "output_type": "stream",
     "text": [
      "Without using user-defined functions: \n",
      "[1, 3, 5, 8, 9, 10, 16, 18, 19, 20, 24, 30, 31, 33, 34, 36, 37, 39, 41, 42, 45, 47, 50, 51, 53, 54, 55, 56, 57, 58, 63, 64, 66, 70, 72, 74, 75, 79, 81, 82, 84, 85, 86, 87, 88, 89, 90, 91, 92, 94, 95, 96, 98, 99]\n"
     ]
    }
   ],
   "source": [
    "l = [36, 45, 58, 3, 74, 96, 64, 45, 31, 10, 24, 19, 33, 86, 99, 18, 63, 70, 85,\n",
    " 85, 63, 47, 56, 42, 70, 84, 88, 55, 20, 54, 8, 56, 51, 79, 81, 57, 37, 91,\n",
    " 1, 84, 84, 36, 66, 9, 89, 50, 42, 91, 50, 95, 90, 98, 39, 16, 82, 31, 92, 41,\n",
    " 45, 30, 66, 70, 34, 85, 94, 5, 3, 36, 72, 91, 84, 34, 87, 75, 53, 51, 20, 89, 51, 20]\n",
    "\n",
    "#I can use data sets\n",
    "myset = set(l)\n",
    "another_list = list(myset)\n",
    "print(\"Without using user-defined functions: \")\n",
    "print(another_list)"
   ]
  },
  {
   "cell_type": "markdown",
   "metadata": {},
   "source": [
    "6\\. Combination of functions\n",
    "\n",
    "Write two functions - one that returns the square of a number, and one that returns the cube. Now write a third function that returns the number raised to the 6th power using the two previous functions."
   ]
  },
  {
   "cell_type": "code",
   "execution_count": 19,
   "metadata": {},
   "outputs": [
    {
     "name": "stdout",
     "output_type": "stream",
     "text": [
      "x = 5\n",
      "Square of x: 25\n",
      "Cube of x: 125\n",
      "6th power of x: 15625\n"
     ]
    }
   ],
   "source": [
    "def square(x):\n",
    "    square = x*x\n",
    "    return square\n",
    "\n",
    "def cube(x):\n",
    "    cube = x*x*x\n",
    "    return cube\n",
    "\n",
    "def six_power(x):\n",
    "    result = square(cube(x))\n",
    "    return result\n",
    "\n",
    "x = 5\n",
    "print(\"x =\", x)\n",
    "print(\"Square of x:\", square(x))\n",
    "print(\"Cube of x:\", cube(x))\n",
    "print(\"6th power of x:\", six_power(x))"
   ]
  },
  {
   "cell_type": "markdown",
   "metadata": {},
   "source": [
    "7\\. Cubes\n",
    "\n",
    "Create a list of the cubes of x for x in *[0, 10]* using:\n",
    "\n",
    "a) a for loop\n",
    "\n",
    "b) a list comprehension"
   ]
  },
  {
   "cell_type": "code",
   "execution_count": 20,
   "metadata": {},
   "outputs": [
    {
     "name": "stdout",
     "output_type": "stream",
     "text": [
      "Result point a):  [0, 1, 8, 27, 64, 125, 216, 343, 512, 729, 1000]\n",
      "Result point b):  [0, 1, 8, 27, 64, 125, 216, 343, 512, 729, 1000]\n"
     ]
    }
   ],
   "source": [
    "#define a function that returns the cube of a value\n",
    "def cube(x):\n",
    "    cube = x*x*x\n",
    "    return cube\n",
    "\n",
    "#point a): use of a for loop\n",
    "alist = []\n",
    "for x in range(0,11):\n",
    "    alist.append(cube(x))\n",
    "\n",
    "print(\"Result point a): \", alist)\n",
    "\n",
    "#point b): use of list comprehension\n",
    "list_b = [cube(x) for x in range(0,11)]\n",
    "print(\"Result point b): \", list_b)"
   ]
  },
  {
   "cell_type": "markdown",
   "metadata": {},
   "source": [
    "8\\. Nested list comprehension\n",
    "\n",
    "A Pythagorean triple is an integer solution to the Pythagorean theorem $a^2+b^2=c^2$. The first Pythagorean triple is (3,4,5). Find and put in a tuple all unique Pythagorean triples for the positive integers a, b and c less than 100."
   ]
  },
  {
   "cell_type": "code",
   "execution_count": 21,
   "metadata": {
    "scrolled": true
   },
   "outputs": [
    {
     "name": "stdout",
     "output_type": "stream",
     "text": [
      "All the Pythagorean triples listed in a tuple: \n",
      "((3, 4, 5), (6, 8, 10), (5, 12, 13), (9, 12, 15), (8, 15, 17), (12, 16, 20), (15, 20, 25), (7, 24, 25), (10, 24, 26), (20, 21, 29), (18, 24, 30), (16, 30, 34), (21, 28, 35), (12, 35, 37), (15, 36, 39), (24, 32, 40), (9, 40, 41), (27, 36, 45), (30, 40, 50), (14, 48, 50), (24, 45, 51), (20, 48, 52), (28, 45, 53), (33, 44, 55), (40, 42, 58), (36, 48, 60), (11, 60, 61), (39, 52, 65), (33, 56, 65), (25, 60, 65), (16, 63, 65), (32, 60, 68), (42, 56, 70), (48, 55, 73), (24, 70, 74), (45, 60, 75), (21, 72, 75), (30, 72, 78), (48, 64, 80), (18, 80, 82), (51, 68, 85), (40, 75, 85), (36, 77, 85), (13, 84, 85), (60, 63, 87), (39, 80, 89), (54, 72, 90), (35, 84, 91), (57, 76, 95), (65, 72, 97), (60, 80, 100), (28, 96, 100))\n"
     ]
    }
   ],
   "source": [
    "n = 100\n",
    "\n",
    "list_triples = [(a, b, c) for c in range(n+1) for b in range(c) for a in range(b) if c*c == a*a + b*b]\n",
    "#print(list_triples)\n",
    "\n",
    "#in order to take only the unique triples I can use sets: \n",
    "#pyth_set = set(list_triples)\n",
    "Pythagorean_tuple = tuple(list_triples)\n",
    "\n",
    "print(\"All the Pythagorean triples listed in a tuple: \")\n",
    "print(Pythagorean_tuple)\n",
    "\n"
   ]
  },
  {
   "cell_type": "markdown",
   "metadata": {},
   "source": [
    "9\\. Normalization\n",
    "\n",
    "Write a function that takes a tuple of numbers and returns it with the entries normalized to one"
   ]
  },
  {
   "cell_type": "code",
   "execution_count": 22,
   "metadata": {},
   "outputs": [
    {
     "name": "stdout",
     "output_type": "stream",
     "text": [
      "The initial tuple is: (3, 4, 6, 8)\n",
      "Normalizing we get:  (1.0, 1.0, 1.0, 1.0)\n"
     ]
    }
   ],
   "source": [
    "def normalization(atuple):\n",
    "    blist = []*len(atuple)\n",
    "    for i in range(0,len(atuple)):\n",
    "        blist.append(atuple[i]/atuple[i])\n",
    "    btuple = tuple(blist)\n",
    "    return btuple\n",
    "\n",
    "a = (3, 4, 6, 8)\n",
    "b = normalization(a)\n",
    "print(\"The initial tuple is:\", a)\n",
    "print(\"Normalizing we get: \", b)"
   ]
  },
  {
   "cell_type": "code",
   "execution_count": null,
   "metadata": {},
   "outputs": [],
   "source": []
  }
 ],
 "metadata": {
  "kernelspec": {
   "display_name": "Python 3 (ipykernel)",
   "language": "python",
   "name": "python3"
  },
  "language_info": {
   "codemirror_mode": {
    "name": "ipython",
    "version": 3
   },
   "file_extension": ".py",
   "mimetype": "text/x-python",
   "name": "python",
   "nbconvert_exporter": "python",
   "pygments_lexer": "ipython3",
   "version": "3.8.10"
  }
 },
 "nbformat": 4,
 "nbformat_minor": 2
}
